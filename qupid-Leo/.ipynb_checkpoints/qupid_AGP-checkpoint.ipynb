{
 "cells": [
  {
   "cell_type": "code",
   "execution_count": 1,
   "metadata": {},
   "outputs": [
    {
     "name": "stderr",
     "output_type": "stream",
     "text": [
      "/var/folders/tx/vgccmrkj1fz1zv99j496_3k80000gn/T/ipykernel_33227/1551644533.py:1: DeprecationWarning: pkg_resources is deprecated as an API. See https://setuptools.pypa.io/en/latest/pkg_resources.html\n",
      "  from pkg_resources import resource_filename\n"
     ]
    }
   ],
   "source": [
    "from pkg_resources import resource_filename\n",
    "import pandas as pd\n",
    "import qupid\n",
    "import os"
   ]
  },
  {
   "cell_type": "code",
   "execution_count": 2,
   "metadata": {},
   "outputs": [],
   "source": [
    "# loads in data and reads data- change to file path\n",
    "#os.getcwd()\n",
    "#metadata_fpath = resource_filename(\"qupid\", \"asd.tsv\")\n",
    "metadata_fpath = \"asd.tsv\"\n",
    "metadata = pd.read_table(metadata_fpath, sep=\"\\t\", index_col=0)"
   ]
  },
  {
   "cell_type": "code",
   "execution_count": 3,
   "metadata": {},
   "outputs": [],
   "source": [
    "asd_str = \"Diagnosed by a medical professional (doctor, physician assistant)\"\n",
    "no_asd_str = \"I do not have this condition\"\n",
    "\n",
    "background = metadata.query(\"asd == @no_asd_str\")\n",
    "focus = metadata.query(\"asd == @asd_str\")\n"
   ]
  },
  {
   "cell_type": "code",
   "execution_count": 4,
   "metadata": {},
   "outputs": [
    {
     "name": "stderr",
     "output_type": "stream",
     "text": [
      "/opt/homebrew/Caskroom/miniconda/base/envs/qiime2-amplicon-2023.9/lib/python3.8/site-packages/qupid/qupid.py:49: FutureWarning: iteritems is deprecated and will be removed in a future version. Use .items instead.\n",
      "  for f_idx, f_val in focus.iteritems():\n",
      "/opt/homebrew/Caskroom/miniconda/base/envs/qiime2-amplicon-2023.9/lib/python3.8/site-packages/qupid/qupid.py:49: FutureWarning: iteritems is deprecated and will be removed in a future version. Use .items instead.\n",
      "  for f_idx, f_val in focus.iteritems():\n"
     ]
    }
   ],
   "source": [
    "matches = qupid.shuffle(\n",
    "    focus=focus,\n",
    "    background=background,\n",
    "    categories=[\"sex\", \"age_years\"],\n",
    "    tolerance_map={\"age_years\": 10},\n",
    "    iterations=100\n",
    ")"
   ]
  },
  {
   "cell_type": "code",
   "execution_count": 5,
   "metadata": {},
   "outputs": [
    {
     "name": "stderr",
     "output_type": "stream",
     "text": [
      "/opt/homebrew/Caskroom/miniconda/base/envs/qiime2-amplicon-2023.9/lib/python3.8/site-packages/qupid/qupid.py:49: FutureWarning: iteritems is deprecated and will be removed in a future version. Use .items instead.\n",
      "  for f_idx, f_val in focus.iteritems():\n",
      "/opt/homebrew/Caskroom/miniconda/base/envs/qiime2-amplicon-2023.9/lib/python3.8/site-packages/qupid/qupid.py:49: FutureWarning: iteritems is deprecated and will be removed in a future version. Use .items instead.\n",
      "  for f_idx, f_val in focus.iteritems():\n"
     ]
    }
   ],
   "source": [
    "from qupid import match_by_multiple\n",
    "cm = match_by_multiple(\n",
    "    focus=focus,\n",
    "    background=background,\n",
    "    categories=[\"sex\", \"age_years\"],\n",
    "    tolerance_map={\"age_years\": 10}\n",
    ")"
   ]
  },
  {
   "cell_type": "code",
   "execution_count": 6,
   "metadata": {},
   "outputs": [
    {
     "ename": "SyntaxError",
     "evalue": "unexpected EOF while parsing (2675401116.py, line 4)",
     "output_type": "error",
     "traceback": [
      "\u001b[0;36m  Cell \u001b[0;32mIn[6], line 4\u001b[0;36m\u001b[0m\n\u001b[0;31m    \u001b[0m\n\u001b[0m    ^\u001b[0m\n\u001b[0;31mSyntaxError\u001b[0m\u001b[0;31m:\u001b[0m unexpected EOF while parsing\n"
     ]
    }
   ],
   "source": [
    "rd = metadata\n",
    "\n",
    "for i in range(0, len(rd)):\n",
    "    \n"
   ]
  },
  {
   "cell_type": "code",
   "execution_count": 7,
   "metadata": {},
   "outputs": [
    {
     "name": "stdout",
     "output_type": "stream",
     "text": [
      "45 1785\n"
     ]
    }
   ],
   "source": [
    "print(len(cm.cases), len(cm.controls))"
   ]
  },
  {
   "cell_type": "code",
   "execution_count": 8,
   "metadata": {},
   "outputs": [],
   "source": [
    "results = cm.create_matched_pairs(iterations=100)"
   ]
  },
  {
   "cell_type": "code",
   "execution_count": 9,
   "metadata": {},
   "outputs": [
    {
     "name": "stdout",
     "output_type": "stream",
     "text": [
      "45 45\n"
     ]
    }
   ],
   "source": [
    "print(len(results[0].cases), len(results[0].controls))"
   ]
  },
  {
   "cell_type": "code",
   "execution_count": 10,
   "metadata": {},
   "outputs": [
    {
     "data": {
      "text/html": [
       "<div>\n",
       "<style scoped>\n",
       "    .dataframe tbody tr th:only-of-type {\n",
       "        vertical-align: middle;\n",
       "    }\n",
       "\n",
       "    .dataframe tbody tr th {\n",
       "        vertical-align: top;\n",
       "    }\n",
       "\n",
       "    .dataframe thead th {\n",
       "        text-align: right;\n",
       "    }\n",
       "</style>\n",
       "<table border=\"1\" class=\"dataframe\">\n",
       "  <thead>\n",
       "    <tr style=\"text-align: right;\">\n",
       "      <th></th>\n",
       "      <th>0</th>\n",
       "      <th>1</th>\n",
       "      <th>2</th>\n",
       "      <th>3</th>\n",
       "      <th>4</th>\n",
       "      <th>5</th>\n",
       "      <th>6</th>\n",
       "      <th>7</th>\n",
       "      <th>8</th>\n",
       "      <th>9</th>\n",
       "      <th>...</th>\n",
       "      <th>90</th>\n",
       "      <th>91</th>\n",
       "      <th>92</th>\n",
       "      <th>93</th>\n",
       "      <th>94</th>\n",
       "      <th>95</th>\n",
       "      <th>96</th>\n",
       "      <th>97</th>\n",
       "      <th>98</th>\n",
       "      <th>99</th>\n",
       "    </tr>\n",
       "    <tr>\n",
       "      <th>case_id</th>\n",
       "      <th></th>\n",
       "      <th></th>\n",
       "      <th></th>\n",
       "      <th></th>\n",
       "      <th></th>\n",
       "      <th></th>\n",
       "      <th></th>\n",
       "      <th></th>\n",
       "      <th></th>\n",
       "      <th></th>\n",
       "      <th></th>\n",
       "      <th></th>\n",
       "      <th></th>\n",
       "      <th></th>\n",
       "      <th></th>\n",
       "      <th></th>\n",
       "      <th></th>\n",
       "      <th></th>\n",
       "      <th></th>\n",
       "      <th></th>\n",
       "      <th></th>\n",
       "    </tr>\n",
       "  </thead>\n",
       "  <tbody>\n",
       "    <tr>\n",
       "      <th>S10317.000065893</th>\n",
       "      <td>S10317.000067682</td>\n",
       "      <td>S10317.000072621</td>\n",
       "      <td>S10317.000033194</td>\n",
       "      <td>S10317.X00171528</td>\n",
       "      <td>S10317.000020336</td>\n",
       "      <td>S10317.000036929</td>\n",
       "      <td>S10317.000083036</td>\n",
       "      <td>S10317.000042978</td>\n",
       "      <td>S10317.000071957</td>\n",
       "      <td>S10317.000046094</td>\n",
       "      <td>...</td>\n",
       "      <td>S10317.X00178964</td>\n",
       "      <td>S10317.000030757</td>\n",
       "      <td>S10317.000067682</td>\n",
       "      <td>S10317.000108082</td>\n",
       "      <td>S10317.000069121</td>\n",
       "      <td>S10317.000036084</td>\n",
       "      <td>S10317.X00179709</td>\n",
       "      <td>S10317.000073579</td>\n",
       "      <td>S10317.000041286</td>\n",
       "      <td>S10317.000021151</td>\n",
       "    </tr>\n",
       "    <tr>\n",
       "      <th>S10317.000021558</th>\n",
       "      <td>S10317.000042994</td>\n",
       "      <td>S10317.000069299</td>\n",
       "      <td>S10317.000030438</td>\n",
       "      <td>S10317.000072568</td>\n",
       "      <td>S10317.000022291</td>\n",
       "      <td>S10317.X00185896</td>\n",
       "      <td>S10317.000026095</td>\n",
       "      <td>S10317.000041631</td>\n",
       "      <td>S10317.000091039</td>\n",
       "      <td>S10317.000108527</td>\n",
       "      <td>...</td>\n",
       "      <td>S10317.000074478</td>\n",
       "      <td>S10317.000041995</td>\n",
       "      <td>S10317.X00168108</td>\n",
       "      <td>S10317.000052481</td>\n",
       "      <td>S10317.000073579</td>\n",
       "      <td>S10317.000067748</td>\n",
       "      <td>S10317.000092674</td>\n",
       "      <td>S10317.X00179454</td>\n",
       "      <td>S10317.000041626</td>\n",
       "      <td>S10317.000108608</td>\n",
       "    </tr>\n",
       "    <tr>\n",
       "      <th>S10317.000102801</th>\n",
       "      <td>S10317.000067671</td>\n",
       "      <td>S10317.000036905</td>\n",
       "      <td>S10317.000051169</td>\n",
       "      <td>S10317.000078799</td>\n",
       "      <td>S10317.000065769</td>\n",
       "      <td>S10317.000067569</td>\n",
       "      <td>S10317.000106412</td>\n",
       "      <td>S10317.000110123</td>\n",
       "      <td>S10317.000069073</td>\n",
       "      <td>S10317.X00167795</td>\n",
       "      <td>...</td>\n",
       "      <td>S10317.000090066</td>\n",
       "      <td>S10317.000067825</td>\n",
       "      <td>S10317.000112144</td>\n",
       "      <td>S10317.000107506</td>\n",
       "      <td>S10317.000035762</td>\n",
       "      <td>S10317.000047503</td>\n",
       "      <td>S10317.000042021</td>\n",
       "      <td>S10317.X00179257</td>\n",
       "      <td>S10317.000041326</td>\n",
       "      <td>S10317.000098135</td>\n",
       "    </tr>\n",
       "    <tr>\n",
       "      <th>S10317.000067638</th>\n",
       "      <td>S10317.000021151</td>\n",
       "      <td>S10317.000036415</td>\n",
       "      <td>S10317.000099053</td>\n",
       "      <td>S10317.000148106</td>\n",
       "      <td>S10317.000033331</td>\n",
       "      <td>S10317.000030449</td>\n",
       "      <td>S10317.000033085</td>\n",
       "      <td>S10317.000078778</td>\n",
       "      <td>S10317.X00185447</td>\n",
       "      <td>S10317.000072569</td>\n",
       "      <td>...</td>\n",
       "      <td>S10317.000067604</td>\n",
       "      <td>S10317.000038132</td>\n",
       "      <td>S10317.000042984</td>\n",
       "      <td>S10317.000079447</td>\n",
       "      <td>S10317.000107223</td>\n",
       "      <td>S10317.000050285</td>\n",
       "      <td>S10317.000108606</td>\n",
       "      <td>S10317.000067571</td>\n",
       "      <td>S10317.X00185669</td>\n",
       "      <td>S10317.000070692</td>\n",
       "    </tr>\n",
       "    <tr>\n",
       "      <th>S10317.000048364</th>\n",
       "      <td>S10317.000034192</td>\n",
       "      <td>S10317.000040130</td>\n",
       "      <td>S10317.000054186</td>\n",
       "      <td>S10317.000107477</td>\n",
       "      <td>S10317.000155195</td>\n",
       "      <td>S10317.000108499</td>\n",
       "      <td>S10317.000100391</td>\n",
       "      <td>S10317.000023154</td>\n",
       "      <td>S10317.000038283</td>\n",
       "      <td>S10317.000052511</td>\n",
       "      <td>...</td>\n",
       "      <td>S10317.000067815</td>\n",
       "      <td>S10317.000097239</td>\n",
       "      <td>S10317.000031594</td>\n",
       "      <td>S10317.000083056</td>\n",
       "      <td>S10317.X00179107</td>\n",
       "      <td>S10317.000044533</td>\n",
       "      <td>S10317.000033496</td>\n",
       "      <td>S10317.000062089</td>\n",
       "      <td>S10317.000068669</td>\n",
       "      <td>S10317.000108607</td>\n",
       "    </tr>\n",
       "  </tbody>\n",
       "</table>\n",
       "<p>5 rows × 100 columns</p>\n",
       "</div>"
      ],
      "text/plain": [
       "                                0                 1                 2   \\\n",
       "case_id                                                                  \n",
       "S10317.000065893  S10317.000067682  S10317.000072621  S10317.000033194   \n",
       "S10317.000021558  S10317.000042994  S10317.000069299  S10317.000030438   \n",
       "S10317.000102801  S10317.000067671  S10317.000036905  S10317.000051169   \n",
       "S10317.000067638  S10317.000021151  S10317.000036415  S10317.000099053   \n",
       "S10317.000048364  S10317.000034192  S10317.000040130  S10317.000054186   \n",
       "\n",
       "                                3                 4                 5   \\\n",
       "case_id                                                                  \n",
       "S10317.000065893  S10317.X00171528  S10317.000020336  S10317.000036929   \n",
       "S10317.000021558  S10317.000072568  S10317.000022291  S10317.X00185896   \n",
       "S10317.000102801  S10317.000078799  S10317.000065769  S10317.000067569   \n",
       "S10317.000067638  S10317.000148106  S10317.000033331  S10317.000030449   \n",
       "S10317.000048364  S10317.000107477  S10317.000155195  S10317.000108499   \n",
       "\n",
       "                                6                 7                 8   \\\n",
       "case_id                                                                  \n",
       "S10317.000065893  S10317.000083036  S10317.000042978  S10317.000071957   \n",
       "S10317.000021558  S10317.000026095  S10317.000041631  S10317.000091039   \n",
       "S10317.000102801  S10317.000106412  S10317.000110123  S10317.000069073   \n",
       "S10317.000067638  S10317.000033085  S10317.000078778  S10317.X00185447   \n",
       "S10317.000048364  S10317.000100391  S10317.000023154  S10317.000038283   \n",
       "\n",
       "                                9   ...                90                91  \\\n",
       "case_id                             ...                                       \n",
       "S10317.000065893  S10317.000046094  ...  S10317.X00178964  S10317.000030757   \n",
       "S10317.000021558  S10317.000108527  ...  S10317.000074478  S10317.000041995   \n",
       "S10317.000102801  S10317.X00167795  ...  S10317.000090066  S10317.000067825   \n",
       "S10317.000067638  S10317.000072569  ...  S10317.000067604  S10317.000038132   \n",
       "S10317.000048364  S10317.000052511  ...  S10317.000067815  S10317.000097239   \n",
       "\n",
       "                                92                93                94  \\\n",
       "case_id                                                                  \n",
       "S10317.000065893  S10317.000067682  S10317.000108082  S10317.000069121   \n",
       "S10317.000021558  S10317.X00168108  S10317.000052481  S10317.000073579   \n",
       "S10317.000102801  S10317.000112144  S10317.000107506  S10317.000035762   \n",
       "S10317.000067638  S10317.000042984  S10317.000079447  S10317.000107223   \n",
       "S10317.000048364  S10317.000031594  S10317.000083056  S10317.X00179107   \n",
       "\n",
       "                                95                96                97  \\\n",
       "case_id                                                                  \n",
       "S10317.000065893  S10317.000036084  S10317.X00179709  S10317.000073579   \n",
       "S10317.000021558  S10317.000067748  S10317.000092674  S10317.X00179454   \n",
       "S10317.000102801  S10317.000047503  S10317.000042021  S10317.X00179257   \n",
       "S10317.000067638  S10317.000050285  S10317.000108606  S10317.000067571   \n",
       "S10317.000048364  S10317.000044533  S10317.000033496  S10317.000062089   \n",
       "\n",
       "                                98                99  \n",
       "case_id                                               \n",
       "S10317.000065893  S10317.000041286  S10317.000021151  \n",
       "S10317.000021558  S10317.000041626  S10317.000108608  \n",
       "S10317.000102801  S10317.000041326  S10317.000098135  \n",
       "S10317.000067638  S10317.X00185669  S10317.000070692  \n",
       "S10317.000048364  S10317.000068669  S10317.000108607  \n",
       "\n",
       "[5 rows x 100 columns]"
      ]
     },
     "execution_count": 10,
     "metadata": {},
     "output_type": "execute_result"
    }
   ],
   "source": [
    "results_df = results.to_dataframe()\n",
    "results_df.head()"
   ]
  },
  {
   "cell_type": "code",
   "execution_count": 11,
   "metadata": {},
   "outputs": [],
   "source": [
    "import numpy as np\n",
    "\n",
    "rng = np.random.default_rng()\n",
    "asd_mean = 4\n",
    "ctrl_mean = 3.75\n",
    "\n",
    "num_cases = len(cm.cases)\n",
    "num_ctrls = len(cm.controls)\n",
    "\n",
    "asd_values = rng.normal(asd_mean, 1, size=num_cases)\n",
    "ctrl_values = rng.normal(ctrl_mean, 1, size=num_ctrls)\n",
    "\n",
    "asd_values = pd.Series(asd_values, index=focus.index)\n",
    "ctrl_values = pd.Series(ctrl_values, index=background.index)\n",
    "\n",
    "sample_values = pd.concat([asd_values, ctrl_values])"
   ]
  },
  {
   "cell_type": "code",
   "execution_count": 12,
   "metadata": {},
   "outputs": [],
   "source": [
    "from qupid.stats import bulk_univariate_test\n",
    "\n",
    "test_results = bulk_univariate_test(\n",
    "    casematches=results,\n",
    "    values=sample_values,\n",
    "    test=\"t\"\n",
    ")"
   ]
  },
  {
   "cell_type": "code",
   "execution_count": 13,
   "metadata": {},
   "outputs": [
    {
     "name": "stdout",
     "output_type": "stream",
     "text": [
      "   method_name test_statistic_name  test_statistic   p-value  sample_size  \\\n",
      "13      t-test                   t        2.344483  0.021304           90   \n",
      "67      t-test                   t        2.247298  0.027122           90   \n",
      "50      t-test                   t        2.153547  0.034010           90   \n",
      "54      t-test                   t        2.067672  0.041607           90   \n",
      "23      t-test                   t        2.059850  0.042367           90   \n",
      "\n",
      "    number_of_groups  \n",
      "13                 2  \n",
      "67                 2  \n",
      "50                 2  \n",
      "54                 2  \n",
      "23                 2  \n"
     ]
    }
   ],
   "source": [
    "print(test_results.head())"
   ]
  },
  {
   "cell_type": "code",
   "execution_count": 19,
   "metadata": {},
   "outputs": [
    {
     "data": {
      "image/png": "[encoded data removed]",
      "text/plain": [
       "<Figure size 640x480 with 1 Axes>"
      ]
     },
     "metadata": {},
     "output_type": "display_data"
    }
   ],
   "source": [
    "import matplotlib.pyplot as plt\n",
    "import seaborn as sns\n",
    "\n",
    "%matplotlib inline\n",
    "\n",
    "sns.histplot(test_results[\"p-value\"])\n",
    "\n",
    "plt.show()"
   ]
  },
  {
   "cell_type": "code",
   "execution_count": 15,
   "metadata": {},
   "outputs": [
    {
     "name": "stderr",
     "output_type": "stream",
     "text": [
      "/var/folders/tx/vgccmrkj1fz1zv99j496_3k80000gn/T/ipykernel_33227/673075409.py:2: UserWarning: Matplotlib is currently using agg, which is a non-GUI backend, so cannot show the figure.\n",
      "  plt.show()\n"
     ]
    }
   ],
   "source": [
    "\n"
   ]
  },
  {
   "cell_type": "code",
   "execution_count": null,
   "metadata": {},
   "outputs": [],
   "source": []
  }
 ],
 "metadata": {
  "kernelspec": {
   "display_name": "Python 3 (ipykernel)",
   "language": "python",
   "name": "python3"
  },
  "language_info": {
   "codemirror_mode": {
    "name": "ipython",
    "version": 3
   },
   "file_extension": ".py",
   "mimetype": "text/x-python",
   "name": "python",
   "nbconvert_exporter": "python",
   "pygments_lexer": "ipython3",
   "version": "3.8.18"
  }
 },
 "nbformat": 4,
 "nbformat_minor": 2
}
