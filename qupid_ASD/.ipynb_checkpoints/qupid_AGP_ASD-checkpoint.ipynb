{
 "cells": [
  {
   "cell_type": "code",
   "execution_count": 41,
   "id": "5c254033-6a06-4283-85e0-e2869ba0efd9",
   "metadata": {},
   "outputs": [],
   "source": [
    "from pkg_resources import resource_filename\n",
    "import pandas as pd\n",
    "import numpy as np\n",
    "import qupid\n",
    "import os\n",
    "from qiime2 import Artifact"
   ]
  },
  {
   "cell_type": "code",
   "execution_count": 17,
   "id": "7d63849b-a403-4f92-88b6-b4c476b7a37d",
   "metadata": {},
   "outputs": [],
   "source": [
    "table = Artifact.load(\"/projects/tmi-public-results/26Jan2024/human-gut/16S/10317/raw.nobloom.minfeat.mindepth.biom.qza\")\n",
    "faith_pd_artifact = Artifact.load('/projects/tmi-public-results/26Jan2024/human-gut/16S/10317/alpha/faith_pd.qza')\n"
   ]
  },
  {
   "cell_type": "code",
   "execution_count": 18,
   "id": "dd7e7765-14d2-42b0-8d62-f229d7639f22",
   "metadata": {},
   "outputs": [
    {
     "name": "stdout",
     "output_type": "stream",
     "text": [
      "SampleData[AlphaDiversity]\n"
     ]
    },
    {
     "data": {
      "text/plain": [
       "(24566,)"
      ]
     },
     "execution_count": 18,
     "metadata": {},
     "output_type": "execute_result"
    }
   ],
   "source": [
    "print(faith_pd_artifact.type)\n",
    "faith_pd_data = faith_pd_artifact.view(pd.Series)\n",
    "faith_pd_data.head()\n",
    "faith_pd_data.shape"
   ]
  },
  {
   "cell_type": "code",
   "execution_count": 19,
   "id": "c39df931-9d60-42bc-a134-9eb7e840085a",
   "metadata": {},
   "outputs": [
    {
     "data": {
      "text/html": [
       "<div>\n",
       "<style scoped>\n",
       "    .dataframe tbody tr th:only-of-type {\n",
       "        vertical-align: middle;\n",
       "    }\n",
       "\n",
       "    .dataframe tbody tr th {\n",
       "        vertical-align: top;\n",
       "    }\n",
       "\n",
       "    .dataframe thead th {\n",
       "        text-align: right;\n",
       "    }\n",
       "</style>\n",
       "<table border=\"1\" class=\"dataframe\">\n",
       "  <thead>\n",
       "    <tr style=\"text-align: right;\">\n",
       "      <th></th>\n",
       "      <th>#SampleID</th>\n",
       "      <th>FaithPD</th>\n",
       "    </tr>\n",
       "  </thead>\n",
       "  <tbody>\n",
       "    <tr>\n",
       "      <th>0</th>\n",
       "      <td>10317.000108523</td>\n",
       "      <td>11.127521</td>\n",
       "    </tr>\n",
       "    <tr>\n",
       "      <th>1</th>\n",
       "      <td>10317.000084446</td>\n",
       "      <td>17.137791</td>\n",
       "    </tr>\n",
       "    <tr>\n",
       "      <th>2</th>\n",
       "      <td>10317.000075931</td>\n",
       "      <td>12.056235</td>\n",
       "    </tr>\n",
       "    <tr>\n",
       "      <th>3</th>\n",
       "      <td>10317.000028969</td>\n",
       "      <td>12.082170</td>\n",
       "    </tr>\n",
       "    <tr>\n",
       "      <th>4</th>\n",
       "      <td>10317.000030366</td>\n",
       "      <td>12.771640</td>\n",
       "    </tr>\n",
       "  </tbody>\n",
       "</table>\n",
       "</div>"
      ],
      "text/plain": [
       "         #SampleID    FaithPD\n",
       "0  10317.000108523  11.127521\n",
       "1  10317.000084446  17.137791\n",
       "2  10317.000075931  12.056235\n",
       "3  10317.000028969  12.082170\n",
       "4  10317.000030366  12.771640"
      ]
     },
     "execution_count": 19,
     "metadata": {},
     "output_type": "execute_result"
    }
   ],
   "source": [
    "faith_pd_df = faith_pd_data.reset_index()\n",
    "faith_pd_df.columns = ['#SampleID', 'FaithPD']\n",
    "faith_pd_df.head()"
   ]
  },
  {
   "cell_type": "code",
   "execution_count": 20,
   "id": "36732b73-ee38-4b69-a2e6-1beabe0f252d",
   "metadata": {},
   "outputs": [],
   "source": [
    "all_good_df=pd.read_csv('/projects/tmi-public-results/26Jan2024/human-gut/16S/10317/metadata-by-status/All_good.tsv',sep='\\t')\n",
    "high_bloom_df=pd.read_csv('/projects/tmi-public-results/26Jan2024/human-gut/16S/10317/metadata-by-status/High_bloom_sample.tsv',sep='\\t')\n",
    "entirely_bloom_df=pd.read_csv('/projects/tmi-public-results/26Jan2024/human-gut/16S/10317/metadata-by-status/The_sample_appears_to_be_entirely_bloom.tsv',sep='\\t')\n",
    "too_few_df=pd.read_csv('/projects/tmi-public-results/26Jan2024/human-gut/16S/10317/metadata-by-status/Too_few_sequences_before_rarefaction.tsv',sep='\\t')"
   ]
  },
  {
   "cell_type": "code",
   "execution_count": 21,
   "id": "9e2fd984-88ad-4f47-ba91-ea311890d38e",
   "metadata": {},
   "outputs": [
    {
     "name": "stdout",
     "output_type": "stream",
     "text": [
      "0    10317.000006\n",
      "1    10317.000028\n",
      "Name: #SampleID, dtype: float64\n",
      "(24566, 87)\n"
     ]
    }
   ],
   "source": [
    "entirely_bloom_df.head()\n",
    "print(entirely_bloom_df['#SampleID'])\n",
    "print(all_good_df.shape)"
   ]
  },
  {
   "cell_type": "code",
   "execution_count": 22,
   "id": "bb7be924-fd57-4209-87e1-e03439a3dfd5",
   "metadata": {},
   "outputs": [],
   "source": [
    "# Combined_df is a df that has all metadata-by-status merged into one DF from top to bottom, however this was unnecessary as FAITH_PD values are only present for All_GOOD metadata\n",
    "# All further instances of combined df will be commented out.\n",
    "# combined_df = pd.concat([all_good_df, high_bloom_df, entirely_bloom_df, too_few_df], ignore_index=True)\n",
    "# combined_df.to_csv('Combined_Metadata.tsv', sep='\\t', index=False)\n",
    "# combined_df.shape"
   ]
  },
  {
   "cell_type": "code",
   "execution_count": 23,
   "id": "2a8001c9-14b2-41f8-9987-8ecf7629dc17",
   "metadata": {},
   "outputs": [
    {
     "data": {
      "text/plain": [
       "(24566, 87)"
      ]
     },
     "execution_count": 23,
     "metadata": {},
     "output_type": "execute_result"
    }
   ],
   "source": [
    "metadata_df = pd.concat([all_good_df], ignore_index=True)\n",
    "metadata_df.to_csv('All_Good_Metadata.tsv', sep='\\t', index=False)\n",
    "metadata_df.shape"
   ]
  },
  {
   "cell_type": "code",
   "execution_count": 24,
   "id": "1eea54fd-2f7d-482d-a3b0-eb8ad64cba84",
   "metadata": {},
   "outputs": [],
   "source": [
    "# combined_df.head()\n"
   ]
  },
  {
   "cell_type": "code",
   "execution_count": 29,
   "id": "5dc39bb2-36ef-4291-90b5-16afe1045603",
   "metadata": {},
   "outputs": [
    {
     "data": {
      "text/html": [
       "<div>\n",
       "<style scoped>\n",
       "    .dataframe tbody tr th:only-of-type {\n",
       "        vertical-align: middle;\n",
       "    }\n",
       "\n",
       "    .dataframe tbody tr th {\n",
       "        vertical-align: top;\n",
       "    }\n",
       "\n",
       "    .dataframe thead th {\n",
       "        text-align: right;\n",
       "    }\n",
       "</style>\n",
       "<table border=\"1\" class=\"dataframe\">\n",
       "  <thead>\n",
       "    <tr style=\"text-align: right;\">\n",
       "      <th></th>\n",
       "      <th>#SampleID</th>\n",
       "      <th>exercise_location</th>\n",
       "      <th>poultry_frequency</th>\n",
       "      <th>lactose</th>\n",
       "      <th>homecooked_meals_frequency</th>\n",
       "      <th>high_fat_red_meat_frequency</th>\n",
       "      <th>migraine</th>\n",
       "      <th>ibs</th>\n",
       "      <th>mental_illness</th>\n",
       "      <th>seafood_frequency</th>\n",
       "      <th>...</th>\n",
       "      <th>drinks_per_session</th>\n",
       "      <th>asd</th>\n",
       "      <th>alzheimers</th>\n",
       "      <th>sleep_duration</th>\n",
       "      <th>bowel_movement_frequency</th>\n",
       "      <th>total-reads</th>\n",
       "      <th>bloom-counts</th>\n",
       "      <th>bloom-proportion</th>\n",
       "      <th>processing-status</th>\n",
       "      <th>FaithPD</th>\n",
       "    </tr>\n",
       "  </thead>\n",
       "  <tbody>\n",
       "    <tr>\n",
       "      <th>0</th>\n",
       "      <td>10317.000108523</td>\n",
       "      <td>Depends on the season</td>\n",
       "      <td>Regularly (3-5 times/week)</td>\n",
       "      <td>Yes</td>\n",
       "      <td>Regularly (3-5 times/week)</td>\n",
       "      <td>Regularly (3-5 times/week)</td>\n",
       "      <td>I do not have this condition</td>\n",
       "      <td>I do not have this condition</td>\n",
       "      <td>No</td>\n",
       "      <td>Rarely (less than once/week)</td>\n",
       "      <td>...</td>\n",
       "      <td>1</td>\n",
       "      <td>I do not have this condition</td>\n",
       "      <td>I do not have this condition</td>\n",
       "      <td>6-7 hours</td>\n",
       "      <td>One</td>\n",
       "      <td>30006.0</td>\n",
       "      <td>25.0</td>\n",
       "      <td>0.000833</td>\n",
       "      <td>All good</td>\n",
       "      <td>11.127521</td>\n",
       "    </tr>\n",
       "    <tr>\n",
       "      <th>1</th>\n",
       "      <td>10317.000084446</td>\n",
       "      <td>Both</td>\n",
       "      <td>Regularly (3-5 times/week)</td>\n",
       "      <td>No</td>\n",
       "      <td>Daily</td>\n",
       "      <td>Occasionally (1-2 times/week)</td>\n",
       "      <td>I do not have this condition</td>\n",
       "      <td>Diagnosed by a medical professional (doctor, p...</td>\n",
       "      <td>No</td>\n",
       "      <td>Occasionally (1-2 times/week)</td>\n",
       "      <td>...</td>\n",
       "      <td>1</td>\n",
       "      <td>I do not have this condition</td>\n",
       "      <td>I do not have this condition</td>\n",
       "      <td>6-7 hours</td>\n",
       "      <td>Less than one</td>\n",
       "      <td>16487.0</td>\n",
       "      <td>473.0</td>\n",
       "      <td>0.028689</td>\n",
       "      <td>All good</td>\n",
       "      <td>17.137791</td>\n",
       "    </tr>\n",
       "    <tr>\n",
       "      <th>2</th>\n",
       "      <td>10317.000075931</td>\n",
       "      <td>Outdoors</td>\n",
       "      <td>Occasionally (1-2 times/week)</td>\n",
       "      <td>No</td>\n",
       "      <td>Regularly (3-5 times/week)</td>\n",
       "      <td>Rarely (less than once/week)</td>\n",
       "      <td>I do not have this condition</td>\n",
       "      <td>Diagnosed by a medical professional (doctor, p...</td>\n",
       "      <td>No</td>\n",
       "      <td>Occasionally (1-2 times/week)</td>\n",
       "      <td>...</td>\n",
       "      <td>not provided</td>\n",
       "      <td>I do not have this condition</td>\n",
       "      <td>I do not have this condition</td>\n",
       "      <td>7-8 hours</td>\n",
       "      <td>Two</td>\n",
       "      <td>24384.0</td>\n",
       "      <td>16511.0</td>\n",
       "      <td>0.677124</td>\n",
       "      <td>All good</td>\n",
       "      <td>12.056235</td>\n",
       "    </tr>\n",
       "    <tr>\n",
       "      <th>3</th>\n",
       "      <td>10317.000028969</td>\n",
       "      <td>Indoors</td>\n",
       "      <td>Regularly (3-5 times/week)</td>\n",
       "      <td>No</td>\n",
       "      <td>Regularly (3-5 times/week)</td>\n",
       "      <td>Occasionally (1-2 times/week)</td>\n",
       "      <td>I do not have this condition</td>\n",
       "      <td>I do not have this condition</td>\n",
       "      <td>not provided</td>\n",
       "      <td>Occasionally (1-2 times/week)</td>\n",
       "      <td>...</td>\n",
       "      <td>not provided</td>\n",
       "      <td>I do not have this condition</td>\n",
       "      <td>I do not have this condition</td>\n",
       "      <td>6-7 hours</td>\n",
       "      <td>One</td>\n",
       "      <td>23545.0</td>\n",
       "      <td>748.0</td>\n",
       "      <td>0.031769</td>\n",
       "      <td>All good</td>\n",
       "      <td>12.082170</td>\n",
       "    </tr>\n",
       "    <tr>\n",
       "      <th>4</th>\n",
       "      <td>10317.000030366</td>\n",
       "      <td>Outdoors</td>\n",
       "      <td>Regularly (3-5 times/week)</td>\n",
       "      <td>No</td>\n",
       "      <td>Regularly (3-5 times/week)</td>\n",
       "      <td>Rarely (less than once/week)</td>\n",
       "      <td>Self-diagnosed</td>\n",
       "      <td>Self-diagnosed</td>\n",
       "      <td>Yes</td>\n",
       "      <td>Occasionally (1-2 times/week)</td>\n",
       "      <td>...</td>\n",
       "      <td>not provided</td>\n",
       "      <td>I do not have this condition</td>\n",
       "      <td>I do not have this condition</td>\n",
       "      <td>6-7 hours</td>\n",
       "      <td>Two</td>\n",
       "      <td>7614.0</td>\n",
       "      <td>2528.0</td>\n",
       "      <td>0.332020</td>\n",
       "      <td>All good</td>\n",
       "      <td>12.771640</td>\n",
       "    </tr>\n",
       "  </tbody>\n",
       "</table>\n",
       "<p>5 rows × 88 columns</p>\n",
       "</div>"
      ],
      "text/plain": [
       "         #SampleID      exercise_location              poultry_frequency  \\\n",
       "0  10317.000108523  Depends on the season     Regularly (3-5 times/week)   \n",
       "1  10317.000084446                   Both     Regularly (3-5 times/week)   \n",
       "2  10317.000075931               Outdoors  Occasionally (1-2 times/week)   \n",
       "3  10317.000028969                Indoors     Regularly (3-5 times/week)   \n",
       "4  10317.000030366               Outdoors     Regularly (3-5 times/week)   \n",
       "\n",
       "  lactose  homecooked_meals_frequency    high_fat_red_meat_frequency  \\\n",
       "0     Yes  Regularly (3-5 times/week)     Regularly (3-5 times/week)   \n",
       "1      No                       Daily  Occasionally (1-2 times/week)   \n",
       "2      No  Regularly (3-5 times/week)   Rarely (less than once/week)   \n",
       "3      No  Regularly (3-5 times/week)  Occasionally (1-2 times/week)   \n",
       "4      No  Regularly (3-5 times/week)   Rarely (less than once/week)   \n",
       "\n",
       "                       migraine  \\\n",
       "0  I do not have this condition   \n",
       "1  I do not have this condition   \n",
       "2  I do not have this condition   \n",
       "3  I do not have this condition   \n",
       "4                Self-diagnosed   \n",
       "\n",
       "                                                 ibs mental_illness  \\\n",
       "0                       I do not have this condition             No   \n",
       "1  Diagnosed by a medical professional (doctor, p...             No   \n",
       "2  Diagnosed by a medical professional (doctor, p...             No   \n",
       "3                       I do not have this condition   not provided   \n",
       "4                                     Self-diagnosed            Yes   \n",
       "\n",
       "               seafood_frequency  ... drinks_per_session  \\\n",
       "0   Rarely (less than once/week)  ...                  1   \n",
       "1  Occasionally (1-2 times/week)  ...                  1   \n",
       "2  Occasionally (1-2 times/week)  ...       not provided   \n",
       "3  Occasionally (1-2 times/week)  ...       not provided   \n",
       "4  Occasionally (1-2 times/week)  ...       not provided   \n",
       "\n",
       "                            asd                    alzheimers sleep_duration  \\\n",
       "0  I do not have this condition  I do not have this condition      6-7 hours   \n",
       "1  I do not have this condition  I do not have this condition      6-7 hours   \n",
       "2  I do not have this condition  I do not have this condition      7-8 hours   \n",
       "3  I do not have this condition  I do not have this condition      6-7 hours   \n",
       "4  I do not have this condition  I do not have this condition      6-7 hours   \n",
       "\n",
       "  bowel_movement_frequency total-reads bloom-counts bloom-proportion  \\\n",
       "0                      One     30006.0         25.0         0.000833   \n",
       "1            Less than one     16487.0        473.0         0.028689   \n",
       "2                      Two     24384.0      16511.0         0.677124   \n",
       "3                      One     23545.0        748.0         0.031769   \n",
       "4                      Two      7614.0       2528.0         0.332020   \n",
       "\n",
       "  processing-status    FaithPD  \n",
       "0          All good  11.127521  \n",
       "1          All good  17.137791  \n",
       "2          All good  12.056235  \n",
       "3          All good  12.082170  \n",
       "4          All good  12.771640  \n",
       "\n",
       "[5 rows x 88 columns]"
      ]
     },
     "execution_count": 29,
     "metadata": {},
     "output_type": "execute_result"
    }
   ],
   "source": [
    "# merged_df = pd.merge(combined_df, faith_pd_df, on='#SampleID', how='left')\n",
    "# Tried join, didn't bring in Faith_PD values. Also we don't need index anyway\n",
    "metadata_with_alpha = pd.merge(metadata_df, faith_pd_df, on='#SampleID', how='left')\n",
    "metadata_with_alpha.head()"
   ]
  },
  {
   "cell_type": "code",
   "execution_count": 20,
   "id": "5b80bb0b-7a7d-4083-9011-91a9993c4f08",
   "metadata": {},
   "outputs": [],
   "source": [
    "# merged_df.shape\n",
    "# merged_df.to_csv('Faith_PD_and_Metadata.tsv', sep='\\t', index=False)"
   ]
  },
  {
   "cell_type": "code",
   "execution_count": 47,
   "id": "bccd7780-71ae-401c-95c7-bc481efb3a88",
   "metadata": {},
   "outputs": [],
   "source": [
    "metadata_with_alpha.to_csv('Metadata_and_Alpha.tsv', sep='\\t', index =False)\n",
    "metadata_with_alpha.shape"
   ]
  },
  {
   "cell_type": "code",
   "execution_count": 48,
   "id": "f2d9a6f4-de6b-4adc-b920-e605f0be3981",
   "metadata": {},
   "outputs": [],
   "source": [
    "metadata = pd.read_table(\"Metadata_and_Alpha.tsv\", sep=\"\\t\", index_col=0)\n"
   ]
  },
  {
   "cell_type": "code",
   "execution_count": 49,
   "id": "c47e940a-40eb-4649-8384-45fc8f90e6c1",
   "metadata": {},
   "outputs": [],
   "source": [
    "asd_str = \"Diagnosed by a medical professional (doctor, physician assistant)\"\n",
    "no_asd_str = \"I do not have this condition\"\n",
    "\n",
    "# background = metadata_with_alpha.query(\"asd == @no_asd_str\")\n",
    "# focus = metadata_with_alpha.query(\"asd == @asd_str\")\n",
    "background = metadata.query(\"asd == @no_asd_str\")\n",
    "focus = metadata.query(\"asd == @asd_str\")"
   ]
  },
  {
   "cell_type": "code",
   "execution_count": 51,
   "id": "27e8350e-1cc5-482a-9cb9-40423134f97a",
   "metadata": {},
   "outputs": [],
   "source": [
    "# matches = qupid.shuffle(\n",
    "#     focus=focus,\n",
    "#     background=background,\n",
    "#     categories=[\"sex\", \"age_years\"],\n",
    "#     tolerance_map={\"age_years\": 10},\n",
    "#     iterations=100\n",
    "# )\n"
   ]
  },
  {
   "cell_type": "code",
   "execution_count": null,
   "id": "25911982-0be9-4538-beaa-ed41b779e593",
   "metadata": {},
   "outputs": [
    {
     "name": "stderr",
     "output_type": "stream",
     "text": [
      "/home/l1joseph/miniforge3/envs/qiime2-amplicon-2024.2/lib/python3.8/site-packages/qupid/qupid.py:49: FutureWarning: iteritems is deprecated and will be removed in a future version. Use .items instead.\n",
      "  for f_idx, f_val in focus.iteritems():\n"
     ]
    }
   ],
   "source": [
    "matches = qupid.shuffle(\n",
    "    focus=focus,\n",
    "    background=background,\n",
    "    categories=[\"sex\"],\n",
    "    iterations=100\n",
    ")"
   ]
  },
  {
   "cell_type": "code",
   "execution_count": null,
   "id": "6956e56c-b3aa-49a6-a8e9-be01e41b601d",
   "metadata": {},
   "outputs": [],
   "source": []
  },
  {
   "cell_type": "code",
   "execution_count": null,
   "id": "fb432df4-4381-4da5-8461-05d45d34fe96",
   "metadata": {},
   "outputs": [],
   "source": []
  }
 ],
 "metadata": {
  "kernelspec": {
   "display_name": "qiime2-amplicon-2024.2",
   "language": "python",
   "name": "qiime2-amplicon-2024.2"
  },
  "language_info": {
   "codemirror_mode": {
    "name": "ipython",
    "version": 3
   },
   "file_extension": ".py",
   "mimetype": "text/x-python",
   "name": "python",
   "nbconvert_exporter": "python",
   "pygments_lexer": "ipython3",
   "version": "3.8.15"
  }
 },
 "nbformat": 4,
 "nbformat_minor": 5
}
